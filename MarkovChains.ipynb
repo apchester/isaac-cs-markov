{
 "cells": [
  {
   "cell_type": "markdown",
   "metadata": {},
   "source": [
    "# Text Generation With Markov Chains\n",
    "The main idea of today's workshop is to write some code that can generate text based on some collection of text (we call this text input a **corpus**). The corpus could be wikipedia articles, the words from novels or a library of tweets, basically any sort of textual data. \n",
    "\n",
    "The goal of the process is to gernerate **original** text that is in the same style as the original inputs.\n",
    "\n",
    "Therea are a number of different techniques that could be used to generate text and for this workshop we have chosen to use markov chains.  \n",
    "\n",
    "Before we get started we'll need to understand a little about markov chains."
   ]
  },
  {
   "cell_type": "markdown",
   "metadata": {},
   "source": [
    "## Markov Chains\n",
    "Markov chains are used to model stochastic **(random)** processes that have fixed states and transitions between these states that have probabilites attached to them. There's a lot going on in that sentence, so lets have an example! \n",
    "\n",
    "I have two choices for how to spend my afternoons. I could go to the gym or play video games. If I go to the gym on one day, I have 50% probability of going to the gym the following day (to try and keep up the good habits). If I play computer games on any afternoon I am highly-likely (80% probability) to play computer games the following day (yes I *am* addicted). \n",
    "\n",
    "The transitions from each choice must sum to **1**, so we can infer the chance of me playing video games after going to the gym is 50% and the chance of me going to the gym after playing computer games is 20%. \n",
    "\n",
    "The diagram below shows the relationship between the states and transitions. \n",
    "\n",
    "![Two state Markov chain](./images/markov_chain.png)\n"
   ]
  },
  {
   "cell_type": "markdown",
   "metadata": {},
   "source": [
    "To use the model to generate a sequence of events, we need to pick a start state, and then generate a random value that will decide which state we move to. \n",
    "\n",
    "We have two choices when in each state, i.e. remain in the current state or move to the other. We will say that the interval 0 to X represents the chance of staying in the current state so for gym a number generated less than 0.5 will mean staying in the gym state and an number greater than or equal to 0.5 will transision us to the computer games state. For the computer games state Anything less than 0.8 will keep us playing games! \n",
    "\n",
    "Lets see this example in action. Highlight the cell below and run it to see what is generated. "
   ]
  },
  {
   "cell_type": "code",
   "execution_count": 7,
   "metadata": {},
   "outputs": [
    {
     "name": "stdout",
     "output_type": "stream",
     "text": [
      "Starting state Gym\n",
      "Day: 1 \t Chosen number: 0.6230590578557484 \t New state: Games\n",
      "Day: 2 \t Chosen number: 0.6844879343525906 \t New state: Games\n",
      "Day: 3 \t Chosen number: 0.3796033546412224 \t New state: Games\n",
      "Day: 4 \t Chosen number: 0.7399287417471544 \t New state: Games\n",
      "Day: 5 \t Chosen number: 0.07565741921565827 \t New state: Games\n"
     ]
    }
   ],
   "source": [
    "import random #import the random library\n",
    "\n",
    "DAYS_TO_GENERATE = 5\n",
    "\n",
    "GYM_GYM = 0.5 #Probabilty of being in gym state and staying there\n",
    "GYM_GAMES = 0.5 #Probabilty of being in gym state moving to the games state\n",
    "\n",
    "GAMES_GAMES = 0.8 #We stay playing games if we played today\n",
    "GAMES_GYM = 0.2 #We go to the gym if we played today.\n",
    "\n",
    "current_state = \"Gym\" #Lets start with good intentions! \n",
    "\n",
    "print(\"Starting state {}\".format(current_state))\n",
    "\n",
    "for i in range(DAYS_TO_GENERATE):\n",
    "    \n",
    "    random_number = random.random() #Generate a random number\n",
    "    \n",
    "    if current_state == \"Gym\": \n",
    "        if random_number < GYM_GYM: #use the gym probabilities \n",
    "            current_state = \"Gym\"\n",
    "        else:\n",
    "            current_state = \"Games\"\n",
    "    else: \n",
    "        if random_number < GAMES_GAMES: #use the games probabilities \n",
    "            current_state = \"Games\"\n",
    "        else:\n",
    "            current_state = \"Gym\"\n",
    "\n",
    "    print(\"Day: {} \\t Chosen number: {} \\t New state: {}\".format(i+1, random_number, current_state))"
   ]
  },
  {
   "cell_type": "markdown",
   "metadata": {},
   "source": [
    "## Activity 1 (5 minutes)\n",
    "Experiment with the code above. Here are some suggestions: \n",
    "1. Change the number of days generated\n",
    "2. Change the starting state\n",
    "3. Modify the transition probabilites "
   ]
  },
  {
   "cell_type": "markdown",
   "metadata": {},
   "source": [
    "## Data representation \n",
    "In the example above we defined variables to store the probabilities of the transitions. With large numbers of states this clearly wont be possible (the maximum number of transitions for $n$ states is $n^{2}$), so even with just 10 states there could be up to 100 transitions. \n",
    "\n",
    "Though not the optimal representation, one way to visualise the state transistions would be to place them in an array (or list in python), having them occur the number of times that represent their particular probabilities. \n",
    "\n",
    "For our inital example we could have some code as below: \n",
    "\n",
    "`\n",
    "gym_transitions = [\"Gym\",\"Games\"] #Represents one half probability of each transision\n",
    "games_transitions = [\"Games\", \"Games, \"Games\", \"Games\", \"Gym\"] #Represents 4/5 or 80% probability of games\n",
    "`\n",
    "\n",
    "If we do this then we can make use of the `choice` method in python's library to select from the options randomly.\n",
    "\n",
    "`current_state = random.choice(games_transitions)`\n",
    "\n",
    "Lets take a look at the example using the array based scheme. \n",
    "\n",
    "**Add in somthing on the hashmpa here**"
   ]
  },
  {
   "cell_type": "code",
   "execution_count": null,
   "metadata": {},
   "outputs": [],
   "source": [
    "gym_transitions = [\"Gym\",\"Games\"] #Represents one half probability of each transision\n",
    "games_transitions = [\"Games\", \"Games\", \"Games\", \"Games\", \"Gym\"] #Represents 4/5 or 80% probability of games\n",
    "\n",
    "current_state = \"Gym\"\n",
    "\n",
    "for i in range(10):\n",
    "    if current_state == \"Gym\":\n",
    "        current_state = random.choice(gym_transitions)\n",
    "    else:\n",
    "        current_state = random.choice(games_transitions)\n",
    "        \n",
    "    print(\"Day: {} \\t {}\".format(i+1, current_state))    "
   ]
  },
  {
   "cell_type": "markdown",
   "metadata": {},
   "source": [
    "## Activity 2\n",
    "There are two things to think about here: \n",
    "1. What does changing the representation do for us? \n",
    "2. There is a more memory efficent representation of data. Can you figure out what it might be? "
   ]
  },
  {
   "cell_type": "markdown",
   "metadata": {},
   "source": [
    "## Getting Started with Text Generation\n",
    "Now we have a basic understanding of Markov chains, lets take a look at how they might apply in a text scenario. \n",
    "We'll use the following statement as a tiny corpus:\n",
    "\n",
    "\"Democracy is the best system of government. Dictatorship is the worst system of government\" \n",
    "\n",
    "Our first Markov chain considered only a single state when choosing what to do next. If we did that for text generation, we'd generate the next word based only on its predecessor. This would produce text that looks very close to the inputs. If we want to generate original text we'll have to consider more of the previous text to come up with something new. \n",
    "\n",
    "We also need to consider what will actually constitute a sentence. For our example we will: \n",
    "1. Expect a sentence to start with a capital letter\n",
    "2. End a sentence with a full stop\n",
    "\n",
    "The first thing to do is break down our example into two word segments, that we will use to build the keys of our transition matrix.\n",
    "\n",
    "0. Democracy is\n",
    "1. is the\n",
    "2. the best\n",
    "3. best system (Omitting lots of items here.....)\n",
    "7. of government\n",
    "\n",
    "We can then add the words that follow the word pairs into an array, where the probabilities will be set by the number of occurances of the following words\n",
    "\n",
    "`\n",
    "{\n",
    "    \"Democracy is\": [\"the\"],\n",
    "    \"is the\" : [\"best\", \"worst\"], #<-- Here is the magic, we have multiple options. \n",
    "    \"the best\" : [\"system\"],\n",
    "}\n",
    "`\n",
    "\n",
    "If we are able to build the hash up from the corpus we can apply the rules for our sentences to generate new sentences. The four valid outputs from this are: \n",
    "\n",
    "1. Democracy is the **best** system of government. \n",
    "2. Democracy is the **worst** system of government.\n",
    "3. Dictatorship is the **best** system of government.\n",
    "4. Dictatorship is the **worst** system of government. \n",
    "\n",
    "This is a very small example, but demonstrates the main concepts pretty well. "
   ]
  },
  {
   "cell_type": "markdown",
   "metadata": {},
   "source": [
    "## Building a model\n",
    "To solve the problem of text generation, we'll break the problem up into two steps: \n",
    "1. Building the model from the corpus\n",
    "2. Generating new text from the model\n",
    "\n",
    "## Activity 3 (10 minutes)\n",
    "For this activity, we're going to code a simple function that builds our model. The function below takes a corpus of text as an input parameter and builds the hash of data for the model. There are some errors which need fixing before it works successfully"
   ]
  },
  {
   "cell_type": "code",
   "execution_count": 4,
   "metadata": {},
   "outputs": [],
   "source": [
    "import pprint\n",
    "def simple_model(corpus):\n",
    "    model = {} #An empty hash to store the values as they are added\n",
    "    \n",
    "    words = corpus.split() #Split the corpus up into individual words\n",
    "    \n",
    "    for i in range(len(words)-2): \n",
    "        phrase = \"{} {}\".format(words[i], words[i+1])\n",
    "        next_word = words[i+2]\n",
    "        \n",
    "        if phrase not in model:\n",
    "            model[phrase] = []\n",
    "        \n",
    "        model[phrase].append(next_word)\n",
    "        \n",
    "    return model"
   ]
  },
  {
   "cell_type": "markdown",
   "metadata": {},
   "source": [
    "Lets test the code is working on our simple example."
   ]
  },
  {
   "cell_type": "code",
   "execution_count": 38,
   "metadata": {},
   "outputs": [
    {
     "name": "stdout",
     "output_type": "stream",
     "text": [
      "{'Democracy is': ['the'],\n",
      " 'Dictatorship is': ['the'],\n",
      " 'best system': ['of'],\n",
      " 'government. Dictatorship': ['is'],\n",
      " 'is the': ['best', 'worst'],\n",
      " 'of government.': ['Dictatorship'],\n",
      " 'system of': ['government.', 'government.'],\n",
      " 'the best': ['system'],\n",
      " 'the worst': ['system'],\n",
      " 'worst system': ['of']}\n",
      "{}\n"
     ]
    }
   ],
   "source": [
    "sample_corpus = \"Democracy is the best system of government. Dictatorship is the worst system of government.\"\n",
    "model = simple_model(sample_corpus)\n",
    "pprint.pprint(model)\n",
    "\n",
    "#Add in some test inputs of your own here. \n",
    "test_input = \"\"\n",
    "model = simple_model(test_input)\n",
    "pprint.pprint(model)"
   ]
  },
  {
   "cell_type": "markdown",
   "metadata": {},
   "source": [
    "## Activity 3a (optional)\n",
    "If you have time, complete the function below which allows the number of states to be set. "
   ]
  },
  {
   "cell_type": "code",
   "execution_count": 11,
   "metadata": {},
   "outputs": [],
   "source": [
    "def tuneable_model(corpus, states=2):\n",
    "    model = {} #An empty hash to store the values as they are added\n",
    "    \n",
    "    words = corpus.split() #Split the corpus up into individual words\n",
    "    \n",
    "    for i in range(len(words)-states-1): \n",
    "        phrase = \" \".join(words[i:i+states])\n",
    "        next_word = words[i+states]\n",
    "        \n",
    "        if phrase not in model:\n",
    "            model[phrase] = []\n",
    "        \n",
    "        model[phrase].append(next_word)\n",
    "        \n",
    "    return model"
   ]
  },
  {
   "cell_type": "markdown",
   "metadata": {},
   "source": [
    "And again lets test the model in two ways:"
   ]
  },
  {
   "cell_type": "code",
   "execution_count": null,
   "metadata": {},
   "outputs": [],
   "source": [
    "two_state_model = tuneable_model(sample_corpus,2)\n",
    "print(\"Two state model\")\n",
    "print(\"================\")\n",
    "pprint.pprint(two_state_model)\n",
    "\n",
    "print()\n",
    "\n",
    "three_state_model = tuneable_model(sample_corpus,3)\n",
    "print(\"Three state model\")\n",
    "print(\"================\")\n",
    "pprint.pprint(three_state_model)"
   ]
  },
  {
   "cell_type": "markdown",
   "metadata": {},
   "source": [
    "## Generating text from the model\n",
    "Now that you have a model in place you are ready to write a function that can process the model and generate new text from a starting point. Remember the two simple rules that we put in place around sentences: \n",
    "\n",
    "1. Sentences start with a capital letter\n",
    "2. Sentences end with a full stop. \n",
    "\n",
    "Were going to need to expand on them slightly:\n",
    "\n",
    "1. Sentences start with a capital letter **or an @ symbol** (To allow us to work with twitter data) \n",
    "2. Sentences end with a full stop **or an exclamation mark or question mark ** (Again twitter is a fiery place) \n",
    "\n",
    "## Activity 4 (10 minutes) \n",
    "\n",
    "Its your turn to implement some code that works on this now. In order to make this a little easier, I've broken it down into a number of functions that we can combine into a single `generate_text` model at the end."
   ]
  },
  {
   "cell_type": "code",
   "execution_count": 15,
   "metadata": {},
   "outputs": [],
   "source": [
    "#This function reads the str parameter and decides if it is a valid starting point (i.e starts with a capital letter)\n",
    "def is_valid_start(str):\n",
    "    return str[0].isupper() or str[0] == \"@\"\n",
    "\n",
    "#This function reads a string parameter and decides if it is a valid end point\n",
    "def is_valid_end(str):\n",
    "    return str[-1] == \".\" or str[-1] == \"!\" or str[-1] == \"?\"\n",
    "\n",
    "#This function should produce the number of words in the string provided\n",
    "def words_in_string(str):\n",
    "    return len(str.split())\n",
    "\n",
    "def generate_text(model, sentences_to_generate=4, minimum_sentence_length=4):\n",
    "    \n",
    "    text = [] #An array of sentences\n",
    "    words_added = 0\n",
    "    for i in range(sentences_to_generate):\n",
    "        sentence = \"\"\n",
    "        #Choose a sentence starting location from the keys of the hash. Remember the rules!\n",
    "        starting_point = random.choice(list(model.keys()))\n",
    "        \n",
    "        while is_valid_start(starting_point) == False:\n",
    "            starting_point = random.choice(list(model.keys()))\n",
    "        \n",
    "        sentence += starting_point\n",
    "        \n",
    "        #Loop infinitely until we have reached the end of a word \n",
    "        while True: \n",
    "            key = \" \".join(sentence.split()[-2:])\n",
    "            \n",
    "            next_generated_word = random.choice(model[key])\n",
    "            \n",
    "            sentence += (\" \" + next_generated_word)\n",
    "            \n",
    "            if words_in_string(sentence) >= minimum_sentence_length and is_valid_end(sentence):\n",
    "                text.append(sentence)\n",
    "                break\n",
    "        \n",
    "        \n",
    "    return '\\n'.join(text)"
   ]
  },
  {
   "cell_type": "markdown",
   "metadata": {},
   "source": [
    "Now test the generation, using the original two sentence sample corpus. "
   ]
  },
  {
   "cell_type": "code",
   "execution_count": 69,
   "metadata": {
    "scrolled": true
   },
   "outputs": [
    {
     "name": "stdout",
     "output_type": "stream",
     "text": [
      "Democracy is the worst system of government.\n",
      "Dictatorship is the best system of government.\n",
      "Dictatorship is the best system of government.\n"
     ]
    }
   ],
   "source": [
    "model = simple_model(sample_corpus)\n",
    "new_sentences = generate_text(model, 3)\n",
    "\n",
    "print(new_sentences)\n"
   ]
  },
  {
   "cell_type": "markdown",
   "metadata": {},
   "source": [
    "Hopefully, you now have generated some sentences that were not in the original corpus. Given the limited size of the inputs there really is not much that the system can do. Lets move on to experimenting with the system as a whole. \n",
    "\n",
    "\n"
   ]
  },
  {
   "cell_type": "markdown",
   "metadata": {},
   "source": [
    "## The system in action.......\n",
    "\n",
    "You've worked really hard to build the system above. A standard part of any machine learning project is the collection and cleansing of a dataset to train on. This can be a time consuming process so we have put together some pre-prepared data for this session. We have developed the following datasets:\n",
    "1. Taylor Swift lyrics\n",
    "2. Donald Trump Tweets\n",
    "3. A collection of scientific wikipedia articles\n",
    "4. Some BBC articles on economics\n",
    "\n",
    "We have wrapped these up into a single function called `fetch_corpus` that you can use to access the data sets as:\n",
    "1. `fetch_corpus('taylor')`\n",
    "2. `fetch_corpus('trump')`\n",
    "3. `fetch_corpus('wikipedia')`\n",
    "4. `fetch_corpus('bbc')`\n",
    "\n",
    "These all return a string that you can feed into your models. Right then time to experiment! "
   ]
  },
  {
   "cell_type": "markdown",
   "metadata": {},
   "source": [
    "## Experimentation\n",
    "If your code has worked so far with all of the tests, then you are good to go! If you've gone off-piste and haven't quite got it working then you can uncomment the import line in the code below to bring in some pre-written versions of the functions for experimentation. "
   ]
  },
  {
   "cell_type": "code",
   "execution_count": 16,
   "metadata": {},
   "outputs": [
    {
     "name": "stdout",
     "output_type": "stream",
     "text": [
      "I'm ever gonna feel that way again.But I don't know if I should.I knew his world moved too fast and burned too bright.But I just thought, how can the devil be pulling you toward someone who looks so much like an angel when he saw me.I guess you didn't care, and I guess I liked that.And when I fell hard you took a step back.Without me, without me, without me, without me, without me.And he's long gone when he's next to me.And I realize the joke is on me, yeah!I knew you were trouble when you walked in.So shame on me now.Flew me to places I'd never been.Til you put me down, oh!I knew you were trouble when you walked in.So shame on me now.Flew me to places I'd never known.Missing him was blue like I'd never been.Now I'm lying on the street.A new notch in your belt is all I'll ever be.And now I see.He was long gone when he's next to me.And I realize the blame is on me, yeah!I knew you were never a saint I've loved in shades of wrong.We learn to live with the flow.But you're friction.This slope is treacherous.I think I think when it's all over,It just comes back in flashes, you know?It's like a cannonball.Now all we know, is touch and go.We are alone with our changing minds.We fall in love 'til it hurts or bleeds or fades in time.And I never (never) be the same.This is a state of grace.This is the golden age of something good and right.These are the hands of fate.You're my Achilles heel.This is the worthwhile fight.Love is a ruthless game.Unless you play it good and right and real.And I never (never) be the same.And I never (never) saw you coming.And I'll never (never) be the same.And I never (never) be the same.You come around and the armor falls.Pierce the room like a cannonball.Now all we know, is touch and go.We are alone with our changing minds.We fall in love 'til it hurts or bleeds or fades in time.And I never (never) be the same.This is a ruthless game.Unless you play it good and right and real.And I never (never) be the same.And I never (never) be the same.You come around and the armor falls.Pierce the room like a kaleidoscope of memories.It just all comes back.\n",
      "I'll get you alone.Your name has echoed through my mind.And I just think you should know.That nothing safe is worth the drive.And I would follow you, follow you home.This hope is treacherous.Two headlights shine through the sleepless night.And I will get you get you alone.Your name has echoed through my mind.And I just thought, how can the devil be pulling you toward someone who looks so much like an angel when he saw me.I guess I liked that.And when I fell hard you took a step back.Without me, without me, without me.And he's long gone when he saw me.I guess I liked that.And when I fell hard you took a step back.Without me, without me, without me.And he's long gone when he's next to me.And I realize the blame is on me.Cause I knew you were never a saint I've loved in shades of wrong.We learn to live with the flow.But you're friction.This slope is treacherous.This path is reckless.This slope is treacherous.This path is reckless.This slope is treacherous.This path is reckless.This slope is treacherous.This path is reckless.This slope is treacherous.This daydream is dangerous.This hope is treacherous.This daydream is dangerous.This hope is treacherous.Two headlights shine through the free fall.Like the colors in autumn, so bright just before they lose it all.Losing him was red.Touching him was like realizing all you ever wanted was right there in front of you.Memorizing him was like trying to change your mind once you're already flying through the sleepless night.And I will get you, I'll get you get you alone.Your name has echoed through my mind.And I just lost my balance.I think that the worst part of it all wasn't losing him.It was losing me.Once upon a time, a few mistakes ago.I was in your belt is all I'll ever be.And now I see, now I see, now I see.He was long gone when he saw me.I guess I liked that.And when I fell hard you took a step back.Without me, without me, without me.And he's long gone when he's next to me.And I realize the joke is on me, yeah!I knew you were trouble when you walked in.So shame on me now.Flew me to places I'd never known.Missing him was red.Loving him was red.Touching him was dark grey all alone.Forgetting him was red.Touching him was like trying to change your mind once you're already flying through the free fall.Like the colors in autumn, so bright just before they lose it all.Losing him was red.Loving him was like trying to know somebody you never met.But loving him was red.Touching him was as easy as knowing all the words to your old favorite song.Fighting with him was like trying to know somebody you never met.But loving him was like driving a new Maserati down a dead-end street.Put your lips close to mine.As long as they don't touch.Out of focus, eye to eye.Till the gravity's too much.And I'll do anything you say.If you say it with your hands.And I'd be smart to walk away.But you're quicksand.This slope is treacherous.And I like it.I can't decide if it's a choice.Getting swept away.I hear the sound of my own voice.Asking you to stay.And all we know, is touch and go.We are alone, just you and me.Up in your room and our slates are clean.Just twin fire signs.Four blue eyes.So you were never a saint and I've loved in shades of wrong.We learn to live with the pain.Mosaic broken hearts.But this love is brave and wild.This is a ruthless game.Unless you play it good and right.Loving him is like driving a new Maserati down a dead-end street.Faster than the wind, passionate as sin, ending so suddenly.Loving him is impossible.When I still see it all in my head.Comes back to me, burning red.Yeah, yeah.His love was like trying to know somebody you never met.But loving him was blue like I'd never been.Til you put me down, oh I knew you were trouble when you walked in.So shame on me now.Flew me to places I'd never been.Now I'm lying on the cold hard ground.Oh, oh, trouble, trouble, trouble.I knew you were trouble when you walked in.So shame on me now.Flew me to places I'd never known.Missing him was like driving a new Maserati down a dead-end street.Put your lips close to mine.As long as they don't touch.Out of focus, eye to eye.Till the gravity's too much.And I'll do anything you say.If you say it with your hands.And I'd be smart to walk away.But you're quicksand.This slope is treacherous.This daydream is dangerous.This hope is treacherous.Two headlights shine through the sleepless night.And I will get you, I'll get you get you get you alone.Your name has echoed through my mind.And I just think you should, think you should, think you should know.That nothing safe is worth the drive.And I would follow you, follow you home.I'll follow you, follow you home.This hope is treacherous.Two headlights shine through the free fall.Like the colors in autumn, so bright just before they lose it all.Losing him was red.Yeah, yeah, red.We're burning redAnd that's why he's spinnin' 'round in my head.Comes back to me, burning red.Yeah, yeah.His love was like wishing you never met.Cause loving him was as easy as knowing all the words to your old favorite song.Fighting with him was blue like I'd never been.Now I'm lying on the cold hard ground.Oh, oh, trouble, trouble, trouble.No apologies.\n",
      "But he never does.I think part of it all in my head.In burning red.Burning, it was red.Oh, losing him was red.Touching him was blue like I'd never known.Missing him was like trying to know somebody you never met.But loving him was red.Touching him was like wishing you never met.But loving him was like realizing all you ever wanted was right there in front of you.Memorizing him was like driving a new Maserati down a dead-end street.Put your lips close to mine.As long as they don't touch.Out of focus, eye to eye.Till the gravity's too much.And I'll do anything you say.If you say it with your hands.And I'd be smart to walk away.But you're quicksand.This slope is treacherous.This path is reckless.This slope is treacherous.This daydream is dangerous.This hope is treacherous.Two headlights shine through the sleepless night.And I will get you alone.Your name has echoed through my mind.And I just thought, how can the devil be pulling you toward someone who looks so much like an angel when he met me.And I realize the blame is on me, yeah!I knew you were trouble when you walked in.Trouble, trouble, trouble.I knew you were right there, you were trouble when you walked in.So shame on me now.Flew me to places I'd never been.Til you put me down, oh.I knew you were trouble when you walked in.Trouble, trouble, trouble.I knew you were trouble when you walked in.Trouble, trouble, trouble.I knew you were trouble when you walked in (you were right there).So shame on me now.Flew me to places I'd never been.Now I'm lying on the cold hard ground.Oh, oh, trouble, trouble, trouble.Oh, oh, trouble, trouble, trouble.And the saddest fear comes creeping in.That you never loved me or her, or anyone, or anything, yeah!I knew you were trouble when you walked in.Trouble, trouble, trouble.I knew you were trouble when you walked in.Trouble, trouble, trouble.I knew you were trouble when you walked in (you were right there).So shame on me now.Flew me to places I'd never been.Til you put me down, oh I knew you were trouble when you walked in.So shame on me now.Flew me to places I'd never been.Til you put me down, oh!I knew you were trouble when you walked in.So shame on me now.Flew me to places I'd never been.Til you put me down, oh I knew you were trouble when you walked in.Trouble, trouble, trouble.I knew you were trouble when you walked in.So shame on me now.Flew me to places I'd never been.Til you put me down, oh.I knew you were trouble when you walked in.So shame on me now.Flew me to places I'd never been.Now I'm lying on the cold hard ground.Oh, oh, trouble, trouble, trouble.No apologies.\n",
      "I'd never known.Missing him was like trying to know somebody you never met.Cause loving him was dark grey all alone.Forgetting him was blue like I'd never been.Now I'm lying on the street.A new notch in your room and our slates are clean.Just twin fire signs.Four blue eyes.So you were never a saint and I've loved in shades of wrong.We learn to live with the flow.But you're friction.This slope is treacherous.I think I think when it's all over,It just comes back in flashes, you know?It's like a cannonball.Now all we are is skin and bone.Trained to get along.Forever going with the pain.Mosaic broken hearts.But this love is brave and wild.And I never (never) saw you coming.And I'll never be the same.And I never (never) saw you coming.And I'll never be the same.This is a state of grace.This is the worthwhile fight.Love is a state of grace.This is the golden age of something good and right.Loving him is like driving a new Maserati down a dead-end street.Faster than the wind, passionate as sin, ending so suddenly.Loving him is like driving a new Maserati down a dead-end street.Put your lips close to mine.As long as they don't touch.Out of focus, eye to eye.Till the gravity's too much.And I'll do anything you say.If you say it with your hands.And I'd be smart to walk away.But you're quicksand.This slope is treacherous.I think I think when it's all over,It just comes back in flashes, you know?It's like a kaleidoscope of memories.It just all comes back.\n",
      "I like it.I can't decide if it's a choice.Getting swept away.I hear the sound of my own voice.Asking you to stay.And all we know, is touch and go.We are alone, just you and me.Up in your room and our slates are clean.Just twin fire signs.Four blue eyes.So you were trouble when you walked in.So shame on me now.Flew me to places I'd never been.Now I'm lying on the cold hard ground.Oh, oh, trouble, trouble, trouble.Oh, oh, trouble, trouble, trouble.And the saddest fear comes creeping in.That you never met.But loving him was blue like I'd never known.Missing him was like trying to know somebody you never met.Cause loving him was blue like I'd never known.Missing him was dark grey all alone.Forgetting him was blue like I'd never known.Missing him was red.Yeah, yeah, red.We're burning redAnd that's why he's spinnin' 'round in my head.Comes back to me, burning red.Yeah, yeah.His love was like driving a new Maserati down a dead-end street.Put your lips close to mine.As long as they don't touch.Out of focus, eye to eye.Till the gravity's too much.And I'll do anything you say.If you say it with your hands.And I'd be smart to walk away.But you're quicksand.This slope is treacherous.This path is reckless.This slope is treacherous.And I like it.I can't decide if it's a choice.Getting swept away.I hear the sound of my own voice.Asking you to stay.And all we are is skin and bone.Trained to get along.Forever going with the flow.But you're friction.This slope is treacherous.This daydream is dangerous.This hope is treacherous.This path is reckless.This slope is treacherous.I think I think when it's all over,It just comes back in flashes, you know?It's like a kaleidoscope of memories.It just all comes back.\n",
      "I heard you moved on from him is impossible.When I still see it all wasn't losing him.It was losing me.Once upon a time, a few mistakes ago.I was in your sights, you got me alone.You found me, you found me, you found me, you found me, you found me.I guess I liked that.And when I fell hard you took a step back.Without me, without me.And he's long gone when he smiles at you?Maybe he knew that when he met me.And I realize the joke is on me.Cause I knew you were trouble when you walked in.Trouble, trouble, trouble.I don't know if you know who you are.\n",
      "Maserati down a dead-end street.Put your lips close to mine.As long as they don't touch.Out of focus, eye to eye.Till the gravity's too much.And I'll do anything you say.If you say it with your hands.And I'd be smart to walk away.But you're quicksand.This slope is treacherous.This daydream is dangerous.This hope is treacherous.Two headlights shine through the traffic lights.Busy streets and busy lives.And all we are is skin and bone.Trained to get along.Forever going with the flow.But you're friction.This slope is treacherous.I like it.Two headlights shine through the sleepless night.And I will get you get you get you alone.Your name has echoed through my mind.And I just thought, how can the devil be pulling you toward someone who looks so much like an angel when he smiles at you?Maybe he knew that when he saw me.I guess I liked that.And when I fell hard you took a step back.Without me, without me, without me, without me, without me.And he's long gone when he's next to me.And I realize the joke is on me.Cause I knew you were trouble when you walked in.Trouble, trouble, trouble.I knew you were trouble when you walked in.Trouble, trouble, trouble.I knew you were trouble when you walked in.So shame on me now.Flew me to places I'd never been.Now I'm lying on the cold hard ground.Oh, oh, trouble, trouble, trouble.Oh, oh, trouble, trouble, trouble.I don't know if I'm ever gonna feel that way again.But I don't know if I should.I knew his world moved too fast and burned too bright.But I just thought, how can the devil be pulling you toward someone who looks so much like an angel when he saw me.I guess you didn't care, and I guess I just thought, how can the devil be pulling you toward someone who looks so much like an angel when he smiles at you?Maybe he knew that when he met me.And I realize the joke is on me, yeah!I knew you were trouble when you walked in.So shame on me now.Flew me to places I'd never been.Til you put me down, oh!I knew you were trouble when you walked in.So shame on me now.Flew me to places I'd never been.Til you put me down, oh!I knew you were never a saint I've loved in shades of wrong.We learn to live with the pain.Mosaic broken hearts.But this love is brave and wild.This is a state of grace.This is the worthwhile fight.Love is a state of grace.This is the worthwhile fight.Love is a ruthless game.Unless you play it good and right.Loving him is like trying to solve a crossword and realizing there's no right answer.Regretting him was dark grey all alone.Forgetting him was blue like I'd never been.Now I'm lying on the cold hard ground.Oh, oh, trouble, trouble, trouble.Oh, oh, trouble, trouble, trouble.Oh, oh, trouble, trouble, trouble.I knew you were trouble when you walked in (you were right there).So shame on me now.Flew me to places I'd never been.Til you put me down, oh!I knew you were trouble when you walked in.Trouble, trouble, trouble.I don't know if you know who you are until you lose who you are.\n",
      "Achilles heel.This is the worthwhile fight.Love is a ruthless game.Unless you play it good and right.Loving him is like trying to know somebody you never loved me or her, or anyone, or anything, yeah!I knew you were never a saint I've loved in shades of wrong.We learn to live with the flow.But you're friction.This slope is treacherous.And I like it.I can't decide if it's a choice.Getting swept away.I hear the sound of my own voice.Asking you to stay.And all we know, is don't let go.We are alone with our changing minds.We fall in love 'til it hurts or bleeds or fades in time.And I never (never) saw you coming.And I'll never (never) saw you coming.And I'll never (never) be the same.So you were trouble when you walked in.So shame on me now.Flew me to places I'd never been.Til you put me down, oh.I knew you were trouble when you walked in.Trouble, trouble, trouble.I knew you were trouble when you walked in.So shame on me now.Flew me to places I'd never been.Now I'm lying on the cold hard ground.Oh, oh, trouble, trouble, trouble.No apologies.\n",
      "I've loved in shades of wrong.We learn to live with the pain.Mosaic broken hearts.But this love is brave and wild.And I never (never) saw you coming.And I'll never (never) saw you coming.And I'll never be the same.And I never (never) saw you coming.And I'll never (never) be the same.This is a state of grace.This is the golden age of something good and right and real.And I never (never) be the same.You come around and the armor falls.Pierce the room like a cannonball.Now all we are is skin and bone.Trained to get along.Forever going with the flow.But you're friction.This slope is treacherous.I like it.Two headlights shine through the sleepless night.And I will get you get you get you alone.Your name has echoed through my mind.And I just think you should, think you should know.That nothing safe is worth the drive.And I would follow you, follow you home.I'll follow you, follow you home.I'll follow you, follow you home.I'll follow you, follow you home.I'll follow you, follow you home.I'll follow you, follow you home.I'll follow you, follow you home.I'll follow you, follow you home.I'll follow you, follow you home.This slope is treacherous.And I like it.I can't decide if it's a choice.Getting swept away.I hear the sound of my own voice.Asking you to stay.And all we know, is touch and go.We are alone with our changing minds.We fall in love 'til it hurts or bleeds or fades in time.And I never (never) saw you coming.And I'll never (never) be the same.This is a state of grace.This is the worthwhile fight.Love is a ruthless game.Unless you play it good and right.Loving him is like driving a new Maserati down a dead-end street.Put your lips close to mine.As long as they don't touch.Out of focus, eye to eye.Till the gravity's too much.And I'll do anything you say.If you say it with your hands.And I'd be smart to walk away.But you're quicksand.This slope is treacherous.This path is reckless.This slope is treacherous.I like it.Two headlights shine through the free fall.Like the colors in autumn, so bright just before they lose it all.Losing him was red.Oh, losing him was red.Yeah, yeah, red.We're burning redAnd that's why he's spinnin' 'round in my head.In burning red.Burning, it was red.Oh, red.Burning red.Remembering him comes in flashbacks and echoes.Tell myself it's time now, gotta let go.But moving on from him is impossible.When I still see it all in my head.Comes back to me, burning red.Yeah, yeah.His love was like wishing you never found out that love could be that strong.Losing him was like trying to know somebody you never met.But loving him was red.Touching him was dark grey all alone.Forgetting him was blue like I'd never been.Now I'm lying on the street.A new notch in your belt is all I'll ever be.And now I see.He was long gone when he saw me.I guess you didn't care, and I guess I just think you should know.That nothing safe is worth the drive.And I would follow you, follow you home.I'll follow you, follow you home.I'll follow you, follow you home.I'll follow you, follow you home.I'll follow you, follow you home.This hope is treacherous.Two headlights shine through the free fall.Like the colors in autumn, so bright just before they lose it all.Losing him was like realizing all you ever wanted was right there in front of you.Memorizing him was red.Loving him was like trying to know somebody you never met.But loving him was like wishing you never met.Cause loving him was like trying to change your mind once you're already flying through the sleepless night.And I will get you, I'll get you get you alone.Your name has echoed through my mind.And I just think you should know.That nothing safe is worth the drive.And I would follow you, follow you home.I'll follow you, follow you home.I'll follow you, follow you home.I'll follow you, follow you home.I'll follow you, follow you home.I'll follow you, follow you home.I'll follow you, follow you home.I'll follow you, follow you home.I'll follow you, follow you home.This slope is treacherous.This daydream is dangerous.This hope is treacherous.This path is reckless.This slope is treacherous.And I like it.I can't decide if it's a choice.Getting swept away.I hear the sound of my own voice.Asking you to stay.And all we know, is touch and go.We are alone, just you and me.Up in your room and our slates are clean.Just twin fire signs.Four blue eyes.So you were right there).So shame on me now.Flew me to places I'd never been.Now I'm lying on the cold hard ground.Oh, oh, trouble, trouble, trouble.And the saddest fear comes creeping in.That you never met.But loving him was red.Yeah, yeah, red.We're burning redAnd that's why he's spinnin' 'round in my head.In burning red.Burning, it was the feeling that came along with it.And the crazy thing is I don't know if you know who you are until you lose who you are until you lose who you are.\n",
      "I heard you moved on from him is impossible.When I still see it all in my head.Comes back to me, burning red.Yeah, yeah.His love was like trying to solve a crossword and realizing there's no right answer.Regretting him was dark grey all alone.Forgetting him was red.Yeah, yeah, red.We're burning redAnd that's why he's spinnin' 'round in my head.Comes back to me, burning red.Yeah, yeah.His love was like trying to know somebody you never met.But loving him was like realizing all you ever wanted was right there in front of you.Memorizing him was dark grey all alone.Forgetting him was like realizing all you ever wanted was right there in front of you.Memorizing him was like trying to solve a crossword and realizing there's no right answer.Regretting him was red.Yeah, yeah, red.We're burning redAnd that's why he's spinnin' 'round in my head.In burning red.Burning, it was red.Oh, losing him was like driving a new Maserati down a dead-end street.Faster than the wind, passionate as sin, ending so suddenly.Loving him is impossible.When I still see it all wasn't losing him.It was losing me.Once upon a time, a few mistakes ago.I was in your belt is all I'll ever be.And now I see.He was long gone when he saw me.I guess you didn't care, and I guess I just think you should know.That nothing safe is worth the drive.And I would follow you, follow you home.I'll follow you, follow you home.I'll follow you, follow you home.I'll follow you, follow you home.I'll follow you, follow you home.I'll follow you, follow you home.I'll follow you, follow you home.I'll follow you, follow you home.This slope is treacherous.I like it.Two headlights shine through the free fall.Like the colors in autumn, so bright just before they lose it all.Losing him was red.Yeah, yeah, red.We're burning redAnd that's why he's spinnin' 'round in my head.In burning red.Burning, it was red.Oh, red.Burning red.Remembering him comes in flashbacks and echoes.Tell myself it's time now, gotta let go.But moving on from him is like driving a new Maserati down a dead-end street.Put your lips close to mine.As long as they don't touch.Out of focus, eye to eye.Till the gravity's too much.And I'll do anything you say.If you say it with your hands.And I'd be smart to walk away.But you're quicksand.This slope is treacherous.And I like it.I can't decide if it's a choice.Getting swept away.I hear the sound of my own voice.Asking you to stay.And all we know, is don't let go.We are alone with our changing minds.We fall in love 'til it hurts or bleeds or fades in time.And I never (never) saw you coming.And I'll never be the same.This is a state of grace.This is the worthwhile fight.Love is a ruthless game.Unless you play it good and right.These are the hands of fate.You're my Achilles heel.This is the golden age of something good and right.These are the hands of fate.You're my Achilles heel.This is the golden age of something good and right.These are the hands of fate.You're my Achilles heel.This is the golden age of something good and right.These are the hands of fate.You're my Achilles heel.This is the golden age of something good and right.These are the hands of fate.You're my Achilles heel.This is the worthwhile fight.Love is a ruthless game.Unless you play it good and right and real.And I never (never) be the same.You come around and the armor falls.Pierce the room like a kaleidoscope of memories.It just all comes back.\n"
     ]
    }
   ],
   "source": [
    "#Uncomment the line(s) below to include the prewritten functions that you need\n",
    "#from markov_helper import simple_model\n",
    "#from markov_helper import tuneable_model\n",
    "\n",
    "from markov_helper import fetch_corpus\n",
    "\n",
    "corpus = fetch_corpus('taylor') #Choose a corpus \n",
    "\n",
    "#Setup the model \n",
    "model = simple_model(corpus)\n",
    "\n",
    "#Generate text\n",
    "new_sentences = generate_text(model, 10)\n",
    "\n",
    "print(new_sentences)"
   ]
  },
  {
   "cell_type": "code",
   "execution_count": null,
   "metadata": {},
   "outputs": [],
   "source": []
  },
  {
   "cell_type": "markdown",
   "metadata": {},
   "source": [
    "## Conclusions"
   ]
  },
  {
   "cell_type": "code",
   "execution_count": null,
   "metadata": {},
   "outputs": [],
   "source": []
  }
 ],
 "metadata": {
  "kernelspec": {
   "display_name": "Python 3",
   "language": "python",
   "name": "python3"
  },
  "language_info": {
   "codemirror_mode": {
    "name": "ipython",
    "version": 3
   },
   "file_extension": ".py",
   "mimetype": "text/x-python",
   "name": "python",
   "nbconvert_exporter": "python",
   "pygments_lexer": "ipython3",
   "version": "3.7.4"
  }
 },
 "nbformat": 4,
 "nbformat_minor": 2
}
